{
  "cells": [
    {
      "cell_type": "markdown",
      "metadata": {
        "id": "2C2IYB4evO8i"
      },
      "source": [
        "# ALY 6980 - Capstone Project\n",
        "\n",
        "Group: Sayli Bahekar, Emily Z. Fan, Yanru Chen \n",
        "Instructor: Prof. Shanu Sushmita\n",
        "Northeastern University - CPS Analytics\n"
      ]
    },
    {
      "cell_type": "code",
      "execution_count": null,
      "metadata": {
        "id": "SX-AHejnvO8n"
      },
      "outputs": [],
      "source": [
        "import pandas as pd\n",
        "import numpy as np\n",
        "import matplotlib.pyplot as plt\n",
        "from matplotlib.pyplot import figure\n",
        "import datetime\n",
        "from matplotlib.pyplot import figure\n",
        "\n",
        "from sklearn.metrics import mean_squared_error\n",
        "import math\n",
        "from math import sqrt\n",
        "\n",
        "%matplotlib inline"
      ]
    },
    {
      "cell_type": "code",
      "source": [
        "#Read the data\n",
        "from google.colab import drive\n",
        "drive.mount('/content/drive')"
      ],
      "metadata": {
        "id": "OGiJmU0LvYg1",
        "colab": {
          "base_uri": "https://localhost:8080/"
        },
        "outputId": "904f6de3-861a-49a6-fa64-56bc9bc2f6c1"
      },
      "execution_count": null,
      "outputs": [
        {
          "output_type": "stream",
          "name": "stdout",
          "text": [
            "Mounted at /content/drive\n"
          ]
        }
      ]
    },
    {
      "cell_type": "code",
      "source": [
        "Data= pd.read_csv('/content/drive/MyDrive/Colab Notebooks/Forecasting_dataset.csv')"
      ],
      "metadata": {
        "id": "gfe4Vxebv7B8"
      },
      "execution_count": null,
      "outputs": []
    },
    {
      "cell_type": "code",
      "source": [
        "# Extract month and year datetime value\n",
        "Data['placed_at']= pd.to_datetime(Data['placed_at'])\n",
        "Data[\"Order_Month\"] = pd.DatetimeIndex(Data['placed_at']).month\n",
        "Data[\"Order_Year\"] = pd.DatetimeIndex(Data['placed_at']).year\n",
        "\n",
        "Data[\"Date\"] = pd.DatetimeIndex(Data['placed_at']).date\n",
        "Data['month_year'] = pd.to_datetime(Data['placed_at']).dt.to_period('M')\n",
        "Data['month_year'] = Data['month_year'].astype(str)\n",
        "Data['month_year'] = pd.to_datetime(Data['month_year'])\n",
        "Data[\"Total Price per order\"] = Data[\"qty\"] * Data[\"price\"]"
      ],
      "metadata": {
        "id": "Eqce727cwurZ"
      },
      "execution_count": null,
      "outputs": []
    },
    {
      "cell_type": "markdown",
      "source": [
        "### Data Pre-processing"
      ],
      "metadata": {
        "id": "jmO1pnZVwVCc"
      }
    },
    {
      "cell_type": "code",
      "execution_count": null,
      "metadata": {
        "id": "8um_JRDrvO8q",
        "colab": {
          "base_uri": "https://localhost:8080/"
        },
        "outputId": "2468ebb2-5edd-4574-fa5b-8a289c27780f"
      },
      "outputs": [
        {
          "output_type": "stream",
          "name": "stdout",
          "text": [
            "<class 'pandas.core.frame.DataFrame'>\n",
            "Int64Index: 336459 entries, 0 to 336471\n",
            "Data columns (total 16 columns):\n",
            " #   Column                 Non-Null Count   Dtype         \n",
            "---  ------                 --------------   -----         \n",
            " 0   id                     336459 non-null  int64         \n",
            " 1   order_id               336459 non-null  int64         \n",
            " 2   placed_at              336459 non-null  datetime64[ns]\n",
            " 3   placed_at_time         336459 non-null  object        \n",
            " 4   merchant_id            336459 non-null  int64         \n",
            " 5   sku_id                 336459 non-null  int64         \n",
            " 6   top_cat_id             336459 non-null  float64       \n",
            " 7   top_cat_name           336459 non-null  object        \n",
            " 8   sub_cat_id             336459 non-null  float64       \n",
            " 9   qty                    336459 non-null  int64         \n",
            " 10  price                  336459 non-null  float64       \n",
            " 11  Order_Month            336459 non-null  int64         \n",
            " 12  Order_Year             336459 non-null  int64         \n",
            " 13  Date                   336459 non-null  object        \n",
            " 14  month_year             336459 non-null  datetime64[ns]\n",
            " 15  Total Price per order  336459 non-null  float64       \n",
            "dtypes: datetime64[ns](2), float64(4), int64(7), object(3)\n",
            "memory usage: 43.6+ MB\n"
          ]
        }
      ],
      "source": [
        "#remove records with missing values\n",
        "Data = Data.dropna(axis=0, subset=['top_cat_id'])\n",
        "\n",
        "#Removing 2 outlier categories\n",
        "Data = Data.query(\"qty < 3600000\")\n",
        "\n",
        "Data.info()"
      ]
    },
    {
      "cell_type": "markdown",
      "source": [
        "### Feature Engineering"
      ],
      "metadata": {
        "id": "aQSwutbuw8Ty"
      }
    },
    {
      "cell_type": "markdown",
      "source": [
        "Creating new dataset - datewise demands"
      ],
      "metadata": {
        "id": "ZPgoXvno94Zo"
      }
    },
    {
      "cell_type": "code",
      "execution_count": null,
      "metadata": {
        "id": "ci6JD046vO8u"
      },
      "outputs": [],
      "source": [
        "def Data_for_ARIMA(Data_1):\n",
        "  grouped_multiple = Data_1.groupby(['Date']).agg({'qty': ['sum']})\n",
        "  grouped_multiple.columns = ['Total Quantity']\n",
        "  grouped_multiple = grouped_multiple.reset_index()\n",
        "\n",
        "  Data_qty = grouped_multiple\n",
        "\n",
        "  #Series data\n",
        "  Data_ts = Data_qty.set_index('Date')\n",
        "  return Data_ts;"
      ]
    },
    {
      "cell_type": "markdown",
      "source": [
        "split training and test sets"
      ],
      "metadata": {
        "id": "Zl7GuYewyQjh"
      }
    },
    {
      "cell_type": "code",
      "source": [
        "# split into train and test sets\n",
        "def Train_Test_ARIMA(Data_ts_1):\n",
        "  X = Data_ts_1.values\n",
        "  size = int(len(X) * 0.7)\n",
        "  train, test = X[0:size], X[size:len(X)]\n",
        "  history = [x for x in train]\n",
        "\n",
        "  predictions = list()\n",
        "  return history, test, predictions"
      ],
      "metadata": {
        "id": "rvp5WqrPyQw8"
      },
      "execution_count": null,
      "outputs": []
    },
    {
      "cell_type": "markdown",
      "metadata": {
        "id": "oA0wOsMivO8u"
      },
      "source": [
        "### Modeling"
      ]
    },
    {
      "cell_type": "markdown",
      "source": [
        "Model Building"
      ],
      "metadata": {
        "id": "UGBgeedvyoFW"
      }
    },
    {
      "cell_type": "markdown",
      "source": [
        "model 1: ARIMA"
      ],
      "metadata": {
        "id": "R4lLEyEryNkU"
      }
    },
    {
      "cell_type": "code",
      "execution_count": null,
      "metadata": {
        "id": "s32ZCEK9vO8w"
      },
      "outputs": [],
      "source": [
        "# evaluate an ARIMA model using a walk-forward validation\n",
        "from statsmodels.tsa.arima.model import ARIMA\n",
        "\n",
        "def ARIMA_Model(history, test, predictions):\n",
        "\t\t# walk-forward validation\n",
        "\tfor t in range(len(test)):\n",
        "\t\t\t\tmodel = ARIMA(history, order=(5,1,0)).fit(method_kwargs={\"warn_convergence\": False})\n",
        "\t\t\t\t#model_fit = model.fit()\n",
        "\t\t\t\toutput = model.forecast()\n",
        "\t\t\t\tyhat = output[0]\n",
        "\t\t\t\tpredictions.append(yhat)\n",
        "\t\t\t\tobs = test[t]\n",
        "\t\t\t\thistory.append(obs)\n",
        "\t\t\t\t#print('predicted=%f, expected=%f' % (yhat, obs))\n",
        "\trmse = sqrt(mean_squared_error(test, predictions))\n",
        " \n",
        "\tprint('\\nTest RMSE = %.3f' % rmse)\n",
        "\tplt.figure(figsize=(15,8))\n",
        "\tplt.plot(test)\n",
        "\tplt.plot(predictions, color='red')\n",
        "\t#plt.legend()\n",
        "\tplt.show()\n",
        "\treturn model"
      ]
    },
    {
      "cell_type": "markdown",
      "source": [
        "Forecasting for individual SKU based on the user's choice."
      ],
      "metadata": {
        "id": "7GAOE7utTtnO"
      }
    },
    {
      "cell_type": "code",
      "source": [
        "Choice = int(input(\"Forecasting for all data - Press 1 \\nForecasting for specific category - press 2 \\nForecasting for specific SKU ID - press 3 \\n ->\"))\n",
        "print(Choice)\n",
        "if Choice == 1:\n",
        "  Data_ts = Data_for_ARIMA(Data)\n",
        "  history, test, predictions = Train_Test_ARIMA(Data_ts)\n",
        "  print(\"ARIMA Model for all data:\\n\")\n",
        "  ARIMA_Model(history, test, predictions)\n",
        "elif Choice == 2:\n",
        "  Cat = float(input(\"Enter Category ID : \"))\n",
        "  Data_cat= Data.query(\"`top_cat_id` == @Cat\")\n",
        "  Data_ts = Data_for_ARIMA(Data_cat)\n",
        "  history, test, predictions = Train_Test_ARIMA(Data_ts)\n",
        "  print(\"ARIMA Model for top_cat_id:\",Cat)\n",
        "  ARIMA_Model(history, test, predictions)\n",
        "elif Choice == 3:\n",
        "  SKU = float(input(\"Enter SKU ID : \"))\n",
        "  Data_sku= Data.query(\"`sku_id` == @SKU\")\n",
        "  Data_ts = Data_for_ARIMA(Data_sku)\n",
        "  history, test, predictions = Train_Test_ARIMA(Data_ts)\n",
        "  print(\"ARIMA Model for SKU:\", SKU)\n",
        "  ARIMA_Model(history, test, predictions)\n",
        "else:\n",
        "  print(\"Enter Correct choice\")"
      ],
      "metadata": {
        "id": "2xHtCNUxxyjC",
        "colab": {
          "base_uri": "https://localhost:8080/",
          "height": 685
        },
        "outputId": "a090cb83-07ae-4eab-a1b0-92696603f2f7"
      },
      "execution_count": null,
      "outputs": [
        {
          "output_type": "stream",
          "name": "stdout",
          "text": [
            "Forecasting for all data - Press 1 \n",
            "Forecasting for specific category - press 2 \n",
            "Forecasting for specific SKU ID - press 3 \n",
            " ->1\n",
            "1\n",
            "ARIMA Model for all data:\n",
            "\n"
          ]
        },
        {
          "output_type": "stream",
          "name": "stderr",
          "text": [
            "/usr/local/lib/python3.8/dist-packages/statsmodels/tsa/statespace/sarimax.py:966: UserWarning: Non-stationary starting autoregressive parameters found. Using zeros as starting parameters.\n",
            "  warn('Non-stationary starting autoregressive parameters'\n"
          ]
        },
        {
          "output_type": "stream",
          "name": "stdout",
          "text": [
            "\n",
            "Test RMSE = 119893.499\n"
          ]
        },
        {
          "output_type": "display_data",
          "data": {
            "text/plain": [
              "<Figure size 1080x576 with 1 Axes>"
            ],
            "image/png": "[encoded data removed]"
          },
          "metadata": {
            "needs_background": "light"
          }
        }
      ]
    },
    {
      "cell_type": "markdown",
      "source": [
        "model 2: Neural Network"
      ],
      "metadata": {
        "id": "3ovXcAigyaHx"
      }
    },
    {
      "cell_type": "code",
      "source": [
        "from sklearn.neural_network import MLPRegressor\n",
        "from sklearn.model_selection import train_test_split\n",
        "from sklearn.compose import ColumnTransformer\n",
        "from sklearn.preprocessing import OneHotEncoder\n",
        "\n",
        "t_onthot = ColumnTransformer(transformers=[('onehot', OneHotEncoder(), [\"top_cat_id\",\"Order_Month\"]),], remainder='passthrough') \n",
        "# Default is to drop untransformed columns\n",
        "\n",
        "t_pass_through = ColumnTransformer(transformers=[('onehot', OneHotEncoder(), []),], remainder='passthrough') \n",
        "# Default is to drop untransformed columns"
      ],
      "metadata": {
        "id": "Gsnqz3uvxywf"
      },
      "execution_count": null,
      "outputs": []
    },
    {
      "cell_type": "markdown",
      "source": [
        "One-hot Encoding"
      ],
      "metadata": {
        "id": "V-s5gPgv-gCK"
      }
    },
    {
      "cell_type": "code",
      "source": [
        "Data_selected = Data[[\"merchant_id\", \"sku_id\", \"top_cat_id\", \"sub_cat_id\", \"price\", \"Order_Month\", \"Order_Year\"]]\n",
        "\n",
        "data_onehot=t_onthot.fit_transform(Data_selected)\n",
        "data_pass_through=t_pass_through.fit_transform(Data_selected)"
      ],
      "metadata": {
        "id": "cLBRG4dJxyyp"
      },
      "execution_count": null,
      "outputs": []
    },
    {
      "cell_type": "code",
      "source": [
        "X_onehot=data_onehot\n",
        "X_pass = data_pass_through\n",
        "y=Data[[\"qty\"]].to_numpy().flatten()"
      ],
      "metadata": {
        "id": "bf70Ozau4UPX"
      },
      "execution_count": null,
      "outputs": []
    },
    {
      "cell_type": "code",
      "source": [
        "X_train_onehot, X_test_onehot, y_train, y_test = train_test_split(X_onehot, y, random_state=1, train_size=0.7)"
      ],
      "metadata": {
        "id": "n7_0l3bw4U8l"
      },
      "execution_count": null,
      "outputs": []
    },
    {
      "cell_type": "code",
      "source": [
        "# regr = MLPRegressor(hidden_layer_sizes=(64), learning_rate_init=0.5, tol=0.01, random_state=2, max_iter=50, verbose=True).fit(X_train, y_train)\n",
        "regr_onehot = MLPRegressor(max_iter=5, verbose=True).fit(X_train_onehot, y_train)"
      ],
      "metadata": {
        "id": "EZ1DsnVD4VC0",
        "colab": {
          "base_uri": "https://localhost:8080/"
        },
        "outputId": "d4378f9b-b2f7-47c9-b53e-d1847d21f941"
      },
      "execution_count": null,
      "outputs": [
        {
          "output_type": "stream",
          "name": "stdout",
          "text": [
            "Iteration 1, loss = 2433551.75351161\n",
            "Iteration 2, loss = 236399.91594362\n",
            "Iteration 3, loss = 197525.39629488\n",
            "Iteration 4, loss = 192630.30255083\n",
            "Iteration 5, loss = 715121.62376334\n"
          ]
        },
        {
          "output_type": "stream",
          "name": "stderr",
          "text": [
            "/usr/local/lib/python3.8/dist-packages/sklearn/neural_network/_multilayer_perceptron.py:692: ConvergenceWarning: Stochastic Optimizer: Maximum iterations (5) reached and the optimization hasn't converged yet.\n",
            "  warnings.warn(\n"
          ]
        }
      ]
    },
    {
      "cell_type": "code",
      "source": [
        "X_train_pass, X_test_pass, y_train, y_test = train_test_split(X_pass, y, random_state=1, train_size=0.7)\n",
        "regr = MLPRegressor(max_iter=5, verbose=True).fit(X_train_pass, y_train)"
      ],
      "metadata": {
        "id": "pz2O-7Ai8MRr",
        "colab": {
          "base_uri": "https://localhost:8080/"
        },
        "outputId": "83b1f4f4-c989-4e92-805c-1497a0bb1bc6"
      },
      "execution_count": null,
      "outputs": [
        {
          "output_type": "stream",
          "name": "stdout",
          "text": [
            "Iteration 1, loss = 10149105.84128859\n",
            "Iteration 2, loss = 201419.65172737\n",
            "Iteration 3, loss = 197126.42135924\n",
            "Iteration 4, loss = 195322.96145209\n",
            "Iteration 5, loss = 192105.00077188\n"
          ]
        },
        {
          "output_type": "stream",
          "name": "stderr",
          "text": [
            "/usr/local/lib/python3.8/dist-packages/sklearn/neural_network/_multilayer_perceptron.py:692: ConvergenceWarning: Stochastic Optimizer: Maximum iterations (5) reached and the optimization hasn't converged yet.\n",
            "  warnings.warn(\n"
          ]
        }
      ]
    },
    {
      "cell_type": "code",
      "source": [
        "print('Coefficient with Onehot Encoding: ', regr_onehot.score(X_test_onehot, y_test))\n",
        "print('RMSE with Onehot Encoding: ', mean_squared_error(y_test, regr_onehot.predict(X_test_onehot)))\n",
        "\n",
        "print('\\nCoefficient : ', regr.score(X_test_pass, y_test))\n",
        "print('RMSE with Onehot Encoding: ', mean_squared_error(y_test, regr.predict(X_test_pass)))"
      ],
      "metadata": {
        "id": "Vmmq_7QK5OuP",
        "colab": {
          "base_uri": "https://localhost:8080/"
        },
        "outputId": "065b5da2-a818-44ba-b153-3026dc7a2a35"
      },
      "execution_count": null,
      "outputs": [
        {
          "output_type": "stream",
          "name": "stdout",
          "text": [
            "Coefficient with Onehot Encoding:  0.21819470389702467\n",
            "RMSE with Onehot Encoding:  62236.1065988647\n",
            "\n",
            "Coefficient :  0.2141892658513077\n",
            "RMSE with Onehot Encoding:  62554.96203567356\n"
          ]
        }
      ]
    },
    {
      "cell_type": "code",
      "source": [
        "fig = figure(figsize=(12, 6), dpi=80)\n",
        "# fig.add_axes([0.5, 1, 0.5, 1])\n",
        "\n",
        "px = Data[\"placed_at\"]\n",
        "# black is prediction value, blue is true label\n",
        "plt.scatter(px[:10000], regr_onehot.predict(X_test_onehot)[:10000], color=\"black\", linewidth=1, label='predicted_qty')\n",
        "plt.scatter(px[:10000], y_test[:10000], color=\"blue\", linewidth=1, label='qty')\n",
        "\n",
        "# plt.xticks(())\n",
        "# plt.yticks(())\n",
        "plt.xlabel(\"Date\")\n",
        "plt.ylabel(\"Quantity\")\n",
        "plt.legend(prop={'size': 12})\n",
        "plt.grid(True)\n",
        "plt.title(\"Neural Network Model Demand Forecast\",fontdict={'fontsize': 16})\n",
        "\n",
        "plt.show()\n",
        "# in this task, we train a neural network deep learning model which takes\n",
        "#\"merchant_id\", \"sku_id\", \"top_cat_id\", \"sub_cat_id\", \"Order_Month\", \"Order_Year\" as input and predicts qty (demand) as output.\n",
        "\n",
        "# from the chart and above MSE metric and corrleation we can see this neural network deep learning model has a resonable prediction performance.\n",
        "# There is still improvement space if we have enough computing resource and time we could do one-hot for all categorical features. \n",
        "# Also, we need to accumalte more data to train a meaningful model"
      ],
      "metadata": {
        "id": "y-2RMBT_5kzE",
        "colab": {
          "base_uri": "https://localhost:8080/",
          "height": 448
        },
        "outputId": "e85ccba7-9810-4781-c5c9-84d3d165a404"
      },
      "execution_count": null,
      "outputs": [
        {
          "output_type": "display_data",
          "data": {
            "text/plain": [
              "<Figure size 960x480 with 1 Axes>"
            ],
            "image/png": "[encoded data removed]"
          },
          "metadata": {
            "needs_background": "light"
          }
        }
      ]
    },
    {
      "cell_type": "markdown",
      "source": [
        "model 3: weekly aggregation"
      ],
      "metadata": {
        "id": "vFPviDPPycb2"
      }
    },
    {
      "cell_type": "markdown",
      "source": [
        "Datetime Components"
      ],
      "metadata": {
        "id": "pVLkFncwO8wX"
      }
    },
    {
      "cell_type": "code",
      "source": [
        "#sale quantaties in weekly intervals\n",
        "def weekly(df):\n",
        "  df=Data\n",
        "  df['Week'] = pd.to_datetime(df['Date']) - pd.to_timedelta(7, unit='d')\n",
        "  df = df.groupby([pd.Grouper(key='Week', freq='W-Fri'),'sku_id', 'top_cat_id'])['qty'].agg(sum).to_frame().reset_index()\n",
        "  df.rename(columns={\"qty\": \"Total Quantity\"}, inplace=True)\n",
        "  return df;\n",
        "\n",
        "def weekly_data(df):\n",
        "  #df=Data\n",
        "  df['Week'] = pd.to_datetime(df['Date']) - pd.to_timedelta(7, unit='d')\n",
        "  df = df.groupby([pd.Grouper(key='Week', freq='W-Fri')])['qty'].agg(sum).to_frame().reset_index()\n",
        "  df.rename(columns={\"qty\": \"Total Quantity\"}, inplace=True)\n",
        "  df_week = df.set_index('Week')\n",
        "  return df_week"
      ],
      "metadata": {
        "id": "dYBcZEM6xy2E"
      },
      "execution_count": null,
      "outputs": []
    },
    {
      "cell_type": "code",
      "source": [
        "#def sku_classify():\n",
        "m3=weekly(Data).pivot_table(index='sku_id', columns='Week', values='Total Quantity',aggfunc='sum')\n",
        "\n",
        "# Average Demand Interval (ADI)\n",
        "ADI = len(m3.columns) / m3.count(axis=1)\n",
        "\n",
        "# Square of the Coefficient of Variation (COV)\n",
        "cov = lambda x: np.square(np.std(x, ddof=1) / np.mean(x))\n",
        "CV2 = m3.apply(cov,axis=1)\n",
        "\n",
        "m3['ADI'] = ADI\n",
        "m3['CV2'] = CV2\n",
        "\n",
        "plt.figure(figsize=(15,10))\n",
        "plt.scatter(CV2, ADI, color='orange')\n",
        "plt.title('ADI (Week) vs. Square of Coefficient')\n",
        "plt.xlabel('Square of Coefficient of Variation')\n",
        "plt.ylabel('Average Demand Interval (Week)')\n",
        "plt.axhline(y=7, linewidth=1.5, color='grey')\n",
        "plt.axvline(x=13, linewidth=1.5, color='grey')\n",
        "plt.text(8, 4, \"Smooth\")\n",
        "plt.text(20, 4, \"Erratic\")\n",
        "plt.text(8, 10, \"Intermittent\")\n",
        "plt.text(20, 10, \"Lumpy\")\n",
        "plt.show()\n",
        "#sku_classify()"
      ],
      "metadata": {
        "id": "e-ATb8ujyefV",
        "colab": {
          "base_uri": "https://localhost:8080/",
          "height": 621
        },
        "outputId": "fcfcc628-8794-4451-f9d7-0760658ebd97"
      },
      "execution_count": null,
      "outputs": [
        {
          "output_type": "display_data",
          "data": {
            "text/plain": [
              "<Figure size 1080x720 with 1 Axes>"
            ],
            "image/png": "[encoded data removed]"
          },
          "metadata": {
            "needs_background": "light"
          }
        }
      ]
    },
    {
      "cell_type": "code",
      "source": [
        "smooth = m3.query('`CV2` < 13 and `ADI` < 7').index.tolist()\n",
        "erratic = m3.query('`CV2` >= 13 and `ADI` < 7').index.tolist()\n",
        "intermittent = m3.query('`CV2` < 13 and `ADI` >= 7').index.tolist()\n",
        "# There is no lumpy demand SKU"
      ],
      "metadata": {
        "id": "9E48N_-CTOWm"
      },
      "execution_count": null,
      "outputs": []
    },
    {
      "cell_type": "code",
      "source": [
        "from statsmodels.tsa.arima.model import ARIMA\n",
        "from sklearn.metrics import r2_score, mean_squared_error, max_error\n",
        "from statsmodels.graphics.tsaplots import plot_acf, plot_pacf\n",
        "\n",
        "def plot_autocorrect(sku):\n",
        "  df_week = weekly(Data).pivot_table(index='Week', columns='sku_id', values='Total Quantity', aggfunc='sum')\n",
        "  print('\\nWeekly sales amount Autocorrelation Plots')\n",
        "  plot_acf(df_week[sku], lags=30, title=\"Autocorrelation of smooth demand, Weekly sales\")\n",
        "  plot_pacf(df_week[sku], lags=30, title=\"Partial Autocorrelation of Smooth demand Weekly sales\")\n",
        "\n",
        "def smooth_baseline():\n",
        "  Data_ts = Data_for_ARIMA(Data.loc[Data[\"sku_id\"].isin(smooth)])\n",
        "  history, test, predictions = Train_Test_ARIMA(Data_ts)\n",
        "  print(\"\\nPrediction evaluation for Smooth Demand:\\n\")\n",
        "  ARIMA_Model(history, test, predictions)\n",
        "  print('\\nR2 score = %.3f' % r2_score(test, predictions), '\\nMax error = %.3f' % max_error(test, predictions))\n",
        " \n",
        "  y_baseline_pred = np.empty(len(test))\n",
        "  y_baseline_pred.fill(np.mean(test))\n",
        "\n",
        "  RMSE_baseline = sqrt(mean_squared_error(test, y_baseline_pred))\n",
        "  print('\\nBaseline model: \\nRMSE = %.3f' % RMSE_baseline, \n",
        "        '\\nR2 score = %.3f' % r2_score(test, y_baseline_pred), \n",
        "        '\\nMax error = %.3f' % max_error(test, y_baseline_pred))\n",
        "\n",
        "\n",
        "def plot_nn(df):\n",
        "  fig = figure(figsize=(14, 10), dpi=80)\n",
        "  px = df[\"placed_at\"]\n",
        "  plt.scatter(px[:1000], nn.predict(X_test)[:1000], color=\"black\", linewidth=1, label='predicted_qty')\n",
        "  plt.scatter(px[:1000], y_test[:1000], color=\"blue\", linewidth=1, label='qty')\n",
        "  plt.xlabel(\"Date\")\n",
        "  plt.ylabel(\"Quantity\")\n",
        "  plt.legend(prop={'size': 16})\n",
        "  plt.grid(True)\n",
        "  plt.title(\"Sales Amount Forecast\", fontdict={'fontsize': 18})\n",
        "  plt.show()\n",
        "  \n",
        "def nn_partial(df):\n",
        "  Data_sku_classified = Data.loc[Data[\"sku_id\"].isin(df)]\n",
        "  X = t_pass_through.fit_transform(Data_sku_classified[[\"merchant_id\", \"sku_id\", \"top_cat_id\", \"price\", \"Order_Month\", \"Order_Year\"]])\n",
        "  y = Data_sku_classified[[\"qty\"]].to_numpy().flatten()\n",
        "  X_train, X_test, y_train, y_test = train_test_split(X, y, random_state=1, train_size=0.7)\n",
        "  nn = MLPRegressor(max_iter = 100, verbose = True, activation='relu').fit(X_train, y_train)\n",
        "  RMSE = sqrt(mean_squared_error(y_test, nn.predict(X_test)))\n",
        "  print('\\nMLP NN model: \\nRMSE = %.3f' % RMSE, '\\nR2 score = %.3f' % r2_score(y_test, nn.predict(X_test)), '\\nMax error = %.3f' % max_error(y_test, nn.predict(X_test)))\n",
        "  #plot_nn(Data.query(\"`sku_id` == @SKU_Classified\")) \n",
        "\n",
        "\n",
        "  y_baseline_pred = np.empty(len(y_test))\n",
        "  y_baseline_pred.fill(np.mean(y_test))\n",
        "\n",
        "  RMSE_baseline = sqrt(mean_squared_error(y_test, y_baseline_pred))\n",
        "  print('\\nBaseline model: \\nRMSE = %.3f' % RMSE_baseline, \n",
        "        '\\nR2 score = %.3f' % r2_score(y_test, y_baseline_pred), \n",
        "        '\\nMax error = %.3f' % max_error(y_test, y_baseline_pred)) "
      ],
      "metadata": {
        "id": "v9grvHaXRoue"
      },
      "execution_count": null,
      "outputs": []
    },
    {
      "cell_type": "code",
      "source": [
        "SKU_Classified = float(input(\"Enter SKU ID : \"))\n",
        "\n",
        "if SKU_Classified in smooth:\n",
        "  Data_sku_classified = Data.query(\"`sku_id` == @SKU_Classified\")\n",
        "  Data_ts = weekly_data(Data_sku_classified)\n",
        "  history, test, predictions = Train_Test_ARIMA(Data_ts)\n",
        "  print(\"\\nSKU {} is a Smooth Demand. Prediction evaluation for SKU {} is: \".format(SKU_Classified, SKU_Classified))\n",
        "  ARIMA_Model(history, test, predictions)\n",
        "  print('\\nR2 score = %.3f' % r2_score(test, predictions), '\\nMax error = %.3f' % max_error(test, predictions))\n",
        "  plot_autocorrect(SKU_Classified)\n",
        "  smooth_baseline()\n",
        "\n",
        "elif SKU_Classified in erratic:\n",
        "  nn_partial(erratic)\n",
        "  print(\"\\nSKU {} is a Erratic Demand\".format(SKU_Classified))\n",
        "\n",
        "  #plot_nn(Data.query(\"`sku_id` == @SKU_Classified\"))  \n",
        "\n",
        "elif SKU_Classified in intermittent:  \n",
        "  nn_partial(intermittent)  \n",
        "  print(\"\\nSKU {} is a Intermittent Demand\".format(SKU_Classified))\n"
      ],
      "metadata": {
        "id": "Yc3XoxhLRpE7",
        "colab": {
          "base_uri": "https://localhost:8080/"
        },
        "outputId": "4237cf86-3ba1-4581-9dbc-f1e828348597"
      },
      "execution_count": null,
      "outputs": [
        {
          "output_type": "stream",
          "name": "stdout",
          "text": [
            "Enter SKU ID : 332\n",
            "Iteration 1, loss = 2485426.18138081\n",
            "Iteration 2, loss = 2156443.36926094\n",
            "Iteration 3, loss = 2132752.28902968\n",
            "Iteration 4, loss = 2111324.57239299\n",
            "Iteration 5, loss = 2098116.53060221\n",
            "Iteration 6, loss = 2084280.43856430\n",
            "Iteration 7, loss = 2065355.26973821\n",
            "Iteration 8, loss = 2051657.94873490\n",
            "Iteration 9, loss = 2036996.98830925\n",
            "Iteration 10, loss = 2024804.87660265\n",
            "Iteration 11, loss = 2011996.37133648\n",
            "Iteration 12, loss = 2111180.69296838\n",
            "Iteration 13, loss = 2184932.18150678\n",
            "Iteration 14, loss = 2017603.03244504\n",
            "Iteration 15, loss = 1975041.79466790\n",
            "Iteration 16, loss = 1965689.45459323\n",
            "Iteration 17, loss = 1956479.53623356\n",
            "Iteration 18, loss = 1947882.98892582\n",
            "Iteration 19, loss = 1942974.93638540\n",
            "Iteration 20, loss = 1937469.25974316\n",
            "Iteration 21, loss = 1927860.71745538\n",
            "Iteration 22, loss = 1928599.57591814\n",
            "Iteration 23, loss = 1916547.24025592\n",
            "Iteration 24, loss = 1910932.74300782\n",
            "Iteration 25, loss = 1923237.81390443\n",
            "Iteration 26, loss = 1899301.49806431\n",
            "Iteration 27, loss = 1941762.06028434\n",
            "Iteration 28, loss = 1891151.12604615\n",
            "Iteration 29, loss = 1883049.46216336\n",
            "Iteration 30, loss = 1914522.50848511\n",
            "Iteration 31, loss = 1874347.74571179\n",
            "Iteration 32, loss = 1871436.36982888\n",
            "Iteration 33, loss = 1869250.26902376\n",
            "Iteration 34, loss = 1859639.07988798\n",
            "Iteration 35, loss = 1863880.61290364\n",
            "Iteration 36, loss = 1849632.12049882\n",
            "Iteration 37, loss = 2176721.35310189\n",
            "Iteration 38, loss = 3728045.28582269\n",
            "Iteration 39, loss = 1839774.34681339\n",
            "Iteration 40, loss = 1831376.52435423\n",
            "Iteration 41, loss = 1828887.46220386\n",
            "Iteration 42, loss = 1823176.53571244\n",
            "Iteration 43, loss = 1820375.64704711\n",
            "Iteration 44, loss = 1816829.98052642\n",
            "Iteration 45, loss = 1812039.24558649\n",
            "Iteration 46, loss = 1810150.48848946\n",
            "Iteration 47, loss = 1803179.09850647\n",
            "Iteration 48, loss = 1799361.44610935\n",
            "Iteration 49, loss = 1795172.69217085\n",
            "Iteration 50, loss = 1791987.96888083\n",
            "Iteration 51, loss = 1788240.12349066\n",
            "Iteration 52, loss = 1786844.35611028\n",
            "Iteration 53, loss = 1782530.88729953\n",
            "Iteration 54, loss = 1781385.75966361\n",
            "Iteration 55, loss = 1779049.21958260\n",
            "Iteration 56, loss = 1773349.24312718\n",
            "Iteration 57, loss = 1765539.73849206\n",
            "Iteration 58, loss = 1764504.47761653\n",
            "Iteration 59, loss = 1769289.59358431\n",
            "Iteration 60, loss = 1756544.84399027\n",
            "Iteration 61, loss = 1753788.75178909\n",
            "Iteration 62, loss = 1752216.88101518\n",
            "Iteration 63, loss = 1749590.43529396\n",
            "Iteration 64, loss = 1748205.21555275\n",
            "Iteration 65, loss = 1742453.94716886\n",
            "Iteration 66, loss = 1739819.65505448\n",
            "Iteration 67, loss = 1738093.10647150\n",
            "Iteration 68, loss = 1736267.67164707\n",
            "Iteration 69, loss = 1730319.08875963\n",
            "Iteration 70, loss = 1727721.87661672\n",
            "Iteration 71, loss = 1727452.37403395\n",
            "Iteration 72, loss = 1737191.61360993\n",
            "Iteration 73, loss = 1726250.39162861\n",
            "Iteration 74, loss = 1717468.51236136\n",
            "Iteration 75, loss = 1724656.69065178\n",
            "Iteration 76, loss = 1718273.33583777\n",
            "Iteration 77, loss = 1718477.27785916\n",
            "Iteration 78, loss = 1726850.01480622\n",
            "Iteration 79, loss = 1753958.21819653\n",
            "Iteration 80, loss = 1726294.07262434\n",
            "Iteration 81, loss = 1702981.47603330\n",
            "Iteration 82, loss = 1735751.80399449\n",
            "Iteration 83, loss = 1716751.47291969\n",
            "Iteration 84, loss = 1696207.68611286\n",
            "Iteration 85, loss = 1691173.55780067\n",
            "Iteration 86, loss = 1697494.91437368\n",
            "Iteration 87, loss = 1809103.09243439\n",
            "Iteration 88, loss = 2381273.80564667\n",
            "Iteration 89, loss = 1710374.85486207\n",
            "Iteration 90, loss = 1682298.40519865\n",
            "Iteration 91, loss = 1680450.69511894\n",
            "Iteration 92, loss = 1679227.11785489\n",
            "Iteration 93, loss = 1677574.77185575\n",
            "Iteration 94, loss = 1676435.68718085\n",
            "Iteration 95, loss = 1673395.30969613\n",
            "Iteration 96, loss = 1674607.38894914\n",
            "Iteration 97, loss = 1670523.44048962\n",
            "Iteration 98, loss = 1669826.99806644\n",
            "Iteration 99, loss = 1666386.93305200\n",
            "Iteration 100, loss = 1667343.12893379\n",
            "\n",
            "MLP NN model: \n",
            "RMSE = 1858.237 \n",
            "R2 score = 0.250 \n",
            "Max error = 145956.770\n",
            "\n",
            "Baseline model: \n",
            "RMSE = 2145.771 \n",
            "R2 score = 0.000 \n",
            "Max error = 167949.433\n",
            "\n",
            "SKU 332.0 is a Erratic Demand\n"
          ]
        },
        {
          "output_type": "stream",
          "name": "stderr",
          "text": [
            "/usr/local/lib/python3.8/dist-packages/sklearn/neural_network/_multilayer_perceptron.py:692: ConvergenceWarning: Stochastic Optimizer: Maximum iterations (100) reached and the optimization hasn't converged yet.\n",
            "  warnings.warn(\n"
          ]
        }
      ]
    },
    {
      "cell_type": "markdown",
      "source": [
        "### Evaluation"
      ],
      "metadata": {
        "id": "zUs7_Px9yfHM"
      }
    },
    {
      "cell_type": "code",
      "source": [
        "Data_ts = Data_for_ARIMA(Data)\n",
        "history, test, predictions = Train_Test_ARIMA(Data_ts)\n",
        "ARIMA_Model(history, test, predictions)\n",
        "  \n",
        "y_baseline_m1 = np.empty(len(test))\n",
        "y_baseline_m1.fill(np.mean(test))\n",
        "\n",
        "print('ARIMA RMSE = ', sqrt(mean_squared_error(test, predictions)))\n",
        "print('\\nARIMA RMSE_baseline = ', sqrt(mean_squared_error(test, y_baseline_m1)))"
      ],
      "metadata": {
        "colab": {
          "base_uri": "https://localhost:8080/"
        },
        "id": "E4BwwfV7ElUZ",
        "outputId": "55668038-fbc5-4ee9-b06f-f94c3380b86a"
      },
      "execution_count": null,
      "outputs": [
        {
          "output_type": "stream",
          "name": "stdout",
          "text": [
            "ARIMA RMSE =  119893.49941009433\n",
            "\n",
            "ARIMA RMSE_baseline =  60009.465022526696\n"
          ]
        }
      ]
    },
    {
      "cell_type": "code",
      "source": [
        "y_baseline_predict = np.empty(len(y_test))\n",
        "y_baseline_predict.fill(np.mean(y_test))\n",
        "\n",
        "print('NN RMSE_baseline = ', sqrt(mean_squared_error(y_test, y_baseline_predict)))\n",
        "print('\\nNN RMSE with one hot encoding = ', sqrt(mean_squared_error(y_test, regr_onehot.predict(X_test_onehot))))"
      ],
      "metadata": {
        "colab": {
          "base_uri": "https://localhost:8080/"
        },
        "id": "nmNY_8p292bW",
        "outputId": "c88081fd-4586-4b99-df61-2a8a5b7e4375"
      },
      "execution_count": null,
      "outputs": [
        {
          "output_type": "stream",
          "name": "stdout",
          "text": [
            "NN RMSE_baseline =  282.14470477464323\n",
            "\n",
            "NN RMSE with one hot encoding =  249.47165490064137\n"
          ]
        }
      ]
    }
  ],
  "metadata": {
    "kernelspec": {
      "display_name": "Python 3",
      "language": "python",
      "name": "python3"
    },
    "language_info": {
      "codemirror_mode": {
        "name": "ipython",
        "version": 3
      },
      "file_extension": ".py",
      "mimetype": "text/x-python",
      "name": "python",
      "nbconvert_exporter": "python",
      "pygments_lexer": "ipython3",
      "version": "3.7.6"
    },
    "colab": {
      "provenance": []
    }
  },
  "nbformat": 4,
  "nbformat_minor": 0
}
